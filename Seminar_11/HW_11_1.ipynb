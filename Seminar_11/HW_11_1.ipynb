{
 "cells": [
  {
   "cell_type": "markdown",
   "id": "5797ff56",
   "metadata": {},
   "source": [
    "#### Задание исследовать функции:\n",
    "1. f = -18 * x ** 3 + 5 * x ** 2 + 10 * x - 30\n",
    "2. f = 2 * x ** 3 + 2 * x ** 2 - 18 * x - 18\n",
    "3. f = (x ** 2 + 3) / (3 * (x + 1))"
   ]
  },
  {
   "cell_type": "markdown",
   "id": "79779a7a",
   "metadata": {},
   "source": [
    "Исследуем 1ю функцию:\n",
    "f = -18 * x ** 3 + 5 * x ** 2 + 10 * x - 30"
   ]
  },
  {
   "cell_type": "code",
   "execution_count": 21,
   "id": "270633e5",
   "metadata": {},
   "outputs": [
    {
     "data": {
      "text/plain": [
       "<function sympy.interactive.printing.init_printing(pretty_print=True, order=None, use_unicode=None, use_latex=None, wrap_line=None, num_columns=None, no_global=False, ip=None, euler=False, forecolor=None, backcolor='Transparent', fontsize='10pt', latex_mode='plain', print_builtin=True, str_printer=None, pretty_printer=None, latex_printer=None, scale=1.0, **settings)>"
      ]
     },
     "execution_count": 21,
     "metadata": {},
     "output_type": "execute_result"
    }
   ],
   "source": [
    "from sympy import *\n",
    "from sympy.plotting import plot\n",
    "init_printing"
   ]
  },
  {
   "cell_type": "code",
   "execution_count": 22,
   "id": "7e2b1886",
   "metadata": {},
   "outputs": [],
   "source": [
    "x=Symbol('x')\n",
    "f = -18 * x ** 3 + 5 * x ** 2 + 10 * x - 30\n",
    "# a=plot(-18 * x ** 3 + 5 * x ** 2 + 10 * x - 30),(x,-1,10)"
   ]
  },
  {
   "cell_type": "code",
   "execution_count": 23,
   "id": "56f32564",
   "metadata": {},
   "outputs": [
    {
     "data": {
      "image/png": "[encoded data removed]",
      "text/plain": [
       "<Figure size 640x480 with 1 Axes>"
      ]
     },
     "metadata": {},
     "output_type": "display_data"
    },
    {
     "data": {
      "text/plain": [
       "<sympy.plotting.plot.Plot at 0x29eb013de20>"
      ]
     },
     "execution_count": 23,
     "metadata": {},
     "output_type": "execute_result"
    }
   ],
   "source": [
    "plot(f, (x, -2, 2), legend=True)"
   ]
  },
  {
   "cell_type": "markdown",
   "id": "91a40a99",
   "metadata": {},
   "source": [
    "Область определения функции"
   ]
  },
  {
   "cell_type": "code",
   "execution_count": 41,
   "id": "0ec95749",
   "metadata": {},
   "outputs": [
    {
     "data": {
      "text/latex": [
       "$\\displaystyle \\mathbb{R}$"
      ],
      "text/plain": [
       "Reals"
      ]
     },
     "execution_count": 41,
     "metadata": {},
     "output_type": "execute_result"
    }
   ],
   "source": [
    "Reals - singularities(f, x) "
   ]
  },
  {
   "cell_type": "markdown",
   "id": "f743bfb1",
   "metadata": {},
   "source": [
    "Определим корни или нули функции"
   ]
  },
  {
   "cell_type": "code",
   "execution_count": 36,
   "id": "ce729767",
   "metadata": {},
   "outputs": [
    {
     "data": {
      "text/latex": [
       "$\\displaystyle \\left\\{- \\frac{\\sqrt[3]{\\frac{5 \\sqrt{218931}}{108} + \\frac{127045}{5832}}}{3} - \\frac{565}{972 \\sqrt[3]{\\frac{5 \\sqrt{218931}}{108} + \\frac{127045}{5832}}} + \\frac{5}{54}\\right\\}$"
      ],
      "text/plain": [
       "{-(5*sqrt(218931)/108 + 127045/5832)**(1/3)/3 - 565/(972*(5*sqrt(218931)/108 + 127045/5832)**(1/3)) + 5/54}"
      ]
     },
     "execution_count": 36,
     "metadata": {},
     "output_type": "execute_result"
    }
   ],
   "source": [
    "solveset(f,x,domain=S.Reals)"
   ]
  },
  {
   "cell_type": "code",
   "execution_count": 40,
   "id": "506de9b0",
   "metadata": {},
   "outputs": [
    {
     "data": {
      "text/latex": [
       "$\\displaystyle \\begin{cases} \\left(- 18 x^{3} + 5 x^{2} + 10 x - 30\\right)^{\\frac{1}{x}} & \\text{for}\\: x = -1 \\vee x = 1 \\\\\\left|{18 x^{3} - 5 x^{2} - 10 x + 30}\\right|^{\\frac{1}{x}} \\operatorname{sign}{\\left(- 18 x^{3} + 5 x^{2} + 10 x - 30 \\right)} & \\text{for}\\: - 54 \\left(\\operatorname{re}{\\left(x\\right)}\\right)^{2} \\operatorname{im}{\\left(x\\right)} + 10 \\operatorname{re}{\\left(x\\right)} \\operatorname{im}{\\left(x\\right)} + 18 \\left(\\operatorname{im}{\\left(x\\right)}\\right)^{3} + 10 \\operatorname{im}{\\left(x\\right)} = 0 \\wedge x \\bmod 2 = 1 \\\\\\left(- 18 x^{3} + 5 x^{2} + 10 x - 30\\right)^{\\frac{1}{x}} & \\text{otherwise} \\end{cases}$"
      ],
      "text/plain": [
       "Piecewise(((-18*x**3 + 5*x**2 + 10*x - 30)**(1/x), Eq(x, -1) | Eq(x, 1)), (Abs(18*x**3 - 5*x**2 - 10*x + 30)**(1/x)*sign(-18*x**3 + 5*x**2 + 10*x - 30), Eq(Mod(x, 2), 1) & Eq(-54*re(x)**2*im(x) + 10*re(x)*im(x) + 18*im(x)**3 + 10*im(x), 0)), ((-18*x**3 + 5*x**2 + 10*x - 30)**(1/x), True))"
      ]
     },
     "execution_count": 40,
     "metadata": {},
     "output_type": "execute_result"
    }
   ],
   "source": [
    "real_root(f,x)"
   ]
  },
  {
   "cell_type": "code",
   "execution_count": 42,
   "id": "9b216970",
   "metadata": {},
   "outputs": [
    {
     "name": "stdout",
     "output_type": "stream",
     "text": [
      "Точка пересечения с осью y (x=0) f=-30\n"
     ]
    }
   ],
   "source": [
    "print(f'Точка пересечения с осью y (x=0) f={f.subs(x,0)}')"
   ]
  },
  {
   "cell_type": "code",
   "execution_count": 44,
   "id": "e280aad3",
   "metadata": {},
   "outputs": [
    {
     "name": "stdout",
     "output_type": "stream",
     "text": [
      "k=-oo,b=Limit(-18*x**3 + 5*x**2 + oo*x - 30, x, oo, dir='-') \n",
      "Ассимптот нет\n"
     ]
    }
   ],
   "source": [
    "k=limit(f/x,x,oo)\n",
    "b=limit(f-k*x,x,oo)\n",
    "\n",
    "print(f'k={k},b={b} ')\n",
    "print('Ассимптот нет')"
   ]
  },
  {
   "cell_type": "markdown",
   "id": "8bdd3d0d",
   "metadata": {},
   "source": [
    "Найдем интервалы, на которых функция возрастает и убывает"
   ]
  },
  {
   "cell_type": "code",
   "execution_count": 45,
   "id": "2343d8cd",
   "metadata": {},
   "outputs": [
    {
     "data": {
      "text/plain": [
       "[-oo, 5/54 - sqrt(565)/54, 5/54 + sqrt(565)/54, oo]"
      ]
     },
     "execution_count": 45,
     "metadata": {},
     "output_type": "execute_result"
    }
   ],
   "source": [
    "b= [-oo,oo]\n",
    "b[1:1]=solve(diff(f),x)\n",
    "sorted(b)"
   ]
  },
  {
   "cell_type": "code",
   "execution_count": 26,
   "id": "fd2fd56f",
   "metadata": {},
   "outputs": [
    {
     "name": "stdout",
     "output_type": "stream",
     "text": [
      "Возрастает на интервалах:\n",
      "[5/54 - sqrt(565)/54, 5/54 + sqrt(565)/54]\n",
      "Убывает на интервалах:\n",
      "[-oo, 5/54 - sqrt(565)/54]\n",
      "[5/54 + sqrt(565)/54, oo]\n"
     ]
    }
   ],
   "source": [
    "f_diff = [-oo, oo]\n",
    "f_diff[1:1] = solve(diff(f), x)\n",
    "\n",
    "incr_list = []\n",
    "decr_list = []\n",
    "\n",
    "for i in range(1, len(f_diff)):\n",
    "    val = is_decreasing(f, Interval.open(f_diff[i - 1], f_diff[i]))\n",
    "    if val:\n",
    "        decr_list.append(f\"[{f_diff[i - 1]}, {f_diff[i]}]\")\n",
    "    else:\n",
    "        incr_list.append(f\"[{f_diff[i - 1]}, {f_diff[i]}]\")\n",
    "        \n",
    "print(f\"Возрастает на интервалах:\", *incr_list, sep=\"\\n\")\n",
    "print(f\"Убывает на интервалах:\", *decr_list, sep=\"\\n\")"
   ]
  },
  {
   "cell_type": "markdown",
   "id": "b33c3391",
   "metadata": {},
   "source": [
    "Вычислим вершину (экстремумы функции)"
   ]
  },
  {
   "cell_type": "code",
   "execution_count": 46,
   "id": "224fbcc7",
   "metadata": {},
   "outputs": [
    {
     "name": "stdout",
     "output_type": "stream",
     "text": [
      "Точка локального минимума: x: 5/54 - sqrt(565)/54, y: -785/27 - 5*sqrt(565)/27 + 5*(5/54 - sqrt(565)/54)**2 - 18*(5/54 - sqrt(565)/54)**3\n",
      "Точка локального максимума: x: 5/54 + sqrt(565)/54, y: -785/27 - 18*(5/54 + sqrt(565)/54)**3 + 5*(5/54 + sqrt(565)/54)**2 + 5*sqrt(565)/27\n"
     ]
    }
   ],
   "source": [
    "#мой вариант\n",
    "df=solve(diff(f),x)\n",
    "b= [-oo,oo]\n",
    "b[1:1]=solve(diff(f),x)\n",
    "c=sorted(b)\n",
    "# print(df)\n",
    "# print(c)\n",
    "for j in df:\n",
    "    for i in range(1, len(f_diff)-1):\n",
    "        if i==c.index(j):\n",
    "            val1 = is_increasing(f, Interval.open(c[i - 1], c[i]))\n",
    "            val2 = is_decreasing(f, Interval.open(c[i], c[i+1]))\n",
    "#             print(j,i,val1,val2)\n",
    "            if val1==val2==True:\n",
    "                print(f\"Точка локального максимума: x: {j}, y: {f.subs(x,j)}\")\n",
    "            elif val1==val2==False:\n",
    "                print(f\"Точка локального минимума: x: {j}, y: {f.subs(x,j)}\")\n",
    "            else:\n",
    "                print(f\"непонятно: x: {j}, y: {f.subs(x,j)}\")"
   ]
  },
  {
   "cell_type": "markdown",
   "id": "d25b5310",
   "metadata": {},
   "source": [
    "3. Определим промежутки знакопостоянства функции"
   ]
  },
  {
   "cell_type": "code",
   "execution_count": 56,
   "id": "95caa9ea",
   "metadata": {},
   "outputs": [
    {
     "name": "stdout",
     "output_type": "stream",
     "text": [
      "f=0: {-(5*sqrt(218931)/108 + 127045/5832)**(1/3)/3 - 565/(972*(5*sqrt(218931)/108 + 127045/5832)**(1/3)) + 5/54}\n",
      "f > 0:\n",
      "[-oo,-(5*sqrt(218931)/108 + 127045/5832)**(1/3)/3 - 565/(972*(5*sqrt(218931)/108 + 127045/5832)**(1/3)) + 5/54]\n",
      "f < 0:\n",
      "[-(5*sqrt(218931)/108 + 127045/5832)**(1/3)/3 - 565/(972*(5*sqrt(218931)/108 + 127045/5832)**(1/3)) + 5/54,oo]\n"
     ]
    }
   ],
   "source": [
    "m= [-oo,oo]\n",
    "pos_list=[]\n",
    "neg_list=[]\n",
    "m[1:1]=solveset(f,x,domain=S.Reals)\n",
    "\n",
    "if is_decreasing(f, Interval.open(m[0],m[1]))==True:\n",
    "    pos_list.append(f\"[{m[0]},{m[1]}]\")\n",
    "    for i in range(2,len(m),2):\n",
    "        neg_list.append(f\"[{m[i-1]},{m[i]}]\")\n",
    "    for i in range(3,len(m),2):\n",
    "        pos_list.append(f\"[{m[i-1]},{m[i]}]\")\n",
    "else:\n",
    "    neg_list.append(f\"[{m[0]},{m[1]}]\")\n",
    "    for i in range(2,len(m),2):\n",
    "        pos_list.append(f\"[{m[i-1]},{m[i]}]\")\n",
    "    for i in range(3,len(m),2):\n",
    "        neg_list.append(f\"[{m[i-1]},{m[i]}]\")\n",
    "print(f'f=0: {solveset(f,x,domain=S.Reals)}')\n",
    "print(\"f > 0:\", *pos_list, sep=\"\\n\")\n",
    "print(\"f < 0:\", *neg_list, sep=\"\\n\")"
   ]
  },
  {
   "cell_type": "code",
   "execution_count": null,
   "id": "7efbf158",
   "metadata": {},
   "outputs": [],
   "source": []
  }
 ],
 "metadata": {
  "kernelspec": {
   "display_name": "Python 3 (ipykernel)",
   "language": "python",
   "name": "python3"
  },
  "language_info": {
   "codemirror_mode": {
    "name": "ipython",
    "version": 3
   },
   "file_extension": ".py",
   "mimetype": "text/x-python",
   "name": "python",
   "nbconvert_exporter": "python",
   "pygments_lexer": "ipython3",
   "version": "3.9.13"
  }
 },
 "nbformat": 4,
 "nbformat_minor": 5
}
