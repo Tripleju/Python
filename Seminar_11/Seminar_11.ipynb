{
 "cells": [
  {
   "cell_type": "code",
   "execution_count": 3,
   "id": "3b2bb1a7",
   "metadata": {},
   "outputs": [
    {
     "data": {
      "text/plain": [
       "'Исследовать функцию'"
      ]
     },
     "execution_count": 3,
     "metadata": {},
     "output_type": "execute_result"
    }
   ],
   "source": [
    "# \"Дана функция: f(x)=5x^2+10x-30\"\n",
    "# \"Исследовать функцию\""
   ]
  },
  {
   "cell_type": "code",
   "execution_count": 11,
   "id": "aae439a0",
   "metadata": {},
   "outputs": [
    {
     "data": {
      "text/plain": [
       "<function sympy.interactive.printing.init_printing(pretty_print=True, order=None, use_unicode=None, use_latex=None, wrap_line=None, num_columns=None, no_global=False, ip=None, euler=False, forecolor=None, backcolor='Transparent', fontsize='10pt', latex_mode='plain', print_builtin=True, str_printer=None, pretty_printer=None, latex_printer=None, scale=1.0, **settings)>"
      ]
     },
     "execution_count": 11,
     "metadata": {},
     "output_type": "execute_result"
    }
   ],
   "source": [
    "from sympy import *\n",
    "from sympy.plottinging import plot\n",
    "init_printing\n"
   ]
  },
  {
   "cell_type": "code",
   "execution_count": 12,
   "id": "2e1298f7",
   "metadata": {},
   "outputs": [
    {
     "data": {
      "image/png": "[encoded data removed]",
      "text/plain": [
       "<Figure size 640x480 with 1 Axes>"
      ]
     },
     "metadata": {},
     "output_type": "display_data"
    }
   ],
   "source": [
    "x=Symbol('x')\n",
    "f=5*x**2+10*x-30\n",
    "a=plot(5*x**2+10*x-30),(x,-5,2.5)"
   ]
  },
  {
   "cell_type": "code",
   "execution_count": 8,
   "id": "c2bdc569",
   "metadata": {},
   "outputs": [],
   "source": [
    "# 1. Определить корни\n",
    "# Нули функции"
   ]
  },
  {
   "cell_type": "code",
   "execution_count": 13,
   "id": "3dbf4c1a",
   "metadata": {},
   "outputs": [
    {
     "data": {
      "text/latex": [
       "$\\displaystyle \\left\\{-1 + \\sqrt{7}, - \\sqrt{7} - 1\\right\\}$"
      ],
      "text/plain": [
       "{-1 + sqrt(7), -sqrt(7) - 1}"
      ]
     },
     "execution_count": 13,
     "metadata": {},
     "output_type": "execute_result"
    }
   ],
   "source": [
    "solveset(f,x)"
   ]
  },
  {
   "cell_type": "code",
   "execution_count": 14,
   "id": "00810291",
   "metadata": {},
   "outputs": [],
   "source": [
    "# 2. Найти интервалы, на которых функция возрастает\n",
    "# 3. Найти интервалы, на которых функция убывает"
   ]
  },
  {
   "cell_type": "code",
   "execution_count": 15,
   "id": "52d37400",
   "metadata": {},
   "outputs": [
    {
     "data": {
      "text/plain": [
       "[-oo, oo]"
      ]
     },
     "execution_count": 15,
     "metadata": {},
     "output_type": "execute_result"
    }
   ],
   "source": [
    " [-oo, oo]#бесконечность"
   ]
  },
  {
   "cell_type": "code",
   "execution_count": 23,
   "id": "0cfc0ae8",
   "metadata": {},
   "outputs": [
    {
     "data": {
      "text/plain": [
       "[-oo, -1, oo]"
      ]
     },
     "execution_count": 23,
     "metadata": {},
     "output_type": "execute_result"
    }
   ],
   "source": [
    "b= [-oo,oo]\n",
    "b[1:1]=solve(diff(f),x)\n",
    "b"
   ]
  },
  {
   "cell_type": "code",
   "execution_count": 29,
   "id": "14a203ee",
   "metadata": {},
   "outputs": [
    {
     "name": "stdout",
     "output_type": "stream",
     "text": [
      "Возрастает на диапазоне ['-1,oo']\n",
      "Убывает на диапазоне ['-oo,-1']\n"
     ]
    }
   ],
   "source": [
    "c=[]\n",
    "d=[]\n",
    "for i in range(1,len(b)):\n",
    "    boo=is_increasing(f, Interval.open(b[i-1],b[i]))\n",
    "    if boo:\n",
    "        c.append(f\"{b[i-1]},{b[i]}\")\n",
    "    else:\n",
    "        d.append(f\"{b[i-1]},{b[i]}\")\n",
    "print(\"Возрастает на диапазоне\",c)\n",
    "print(\"Убывает на диапазоне\", d)"
   ]
  },
  {
   "cell_type": "code",
   "execution_count": 32,
   "id": "b92943b2",
   "metadata": {},
   "outputs": [],
   "source": [
    "# 5. Вычислить вершину\n",
    "# Экстремумы функции"
   ]
  },
  {
   "cell_type": "code",
   "execution_count": 34,
   "id": "25844445",
   "metadata": {},
   "outputs": [
    {
     "name": "stdout",
     "output_type": "stream",
     "text": [
      "Нижний экстремум: x: -1, y: -35\n"
     ]
    }
   ],
   "source": [
    "e=solve(diff(f),x)\n",
    "for i in e:\n",
    "    g=f.subs(x,i)\n",
    "    if g<0:\n",
    "        print(f\"Нижний экстремум: x: {i}, y: {g}\")\n",
    "    elif g>0:\n",
    "        print(f\"Верхний экстремум: x: {i}, y: {g}\")"
   ]
  },
  {
   "cell_type": "code",
   "execution_count": 35,
   "id": "1dda802c",
   "metadata": {},
   "outputs": [],
   "source": [
    "# 6. Определить промежутки, на котором f > 0\n",
    "# 7. Определить промежутки, на котором f < 0\n",
    "# Знакопостоянства функции"
   ]
  },
  {
   "cell_type": "code",
   "execution_count": 36,
   "id": "b4ee139d",
   "metadata": {},
   "outputs": [
    {
     "name": "stdout",
     "output_type": "stream",
     "text": [
      "f > 0:\n",
      "-1 + sqrt(7),-sqrt(7) - 1\n",
      "f < 0:\n",
      "-oo,-1 + sqrt(7)\n",
      "-sqrt(7) - 1,oo\n"
     ]
    }
   ],
   "source": [
    "m= [-oo,oo]\n",
    "incr_list=[]\n",
    "decr_list=[]\n",
    "m[1:1]=solve(f,x)\n",
    "for i in range(1,len(m)):\n",
    "    boo=is_increasing(f, Interval.open(m[i-1],m[i]))\n",
    "    if boo:\n",
    "        incr_list.append(f\"{m[i-1]},{m[i]}\")\n",
    "    else:\n",
    "        decr_list.append(f\"{m[i-1]},{m[i]}\")\n",
    "print(\"f > 0:\", *incr_list, sep=\"\\n\")\n",
    "print(\"f < 0:\", *decr_list, sep=\"\\n\")"
   ]
  },
  {
   "cell_type": "code",
   "execution_count": null,
   "id": "a7358851",
   "metadata": {},
   "outputs": [],
   "source": []
  }
 ],
 "metadata": {
  "kernelspec": {
   "display_name": "Python 3 (ipykernel)",
   "language": "python",
   "name": "python3"
  },
  "language_info": {
   "codemirror_mode": {
    "name": "ipython",
    "version": 3
   },
   "file_extension": ".py",
   "mimetype": "text/x-python",
   "name": "python",
   "nbconvert_exporter": "python",
   "pygments_lexer": "ipython3",
   "version": "3.9.13"
  }
 },
 "nbformat": 4,
 "nbformat_minor": 5
}
