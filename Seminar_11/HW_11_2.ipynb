{
 "cells": [
  {
   "cell_type": "markdown",
   "id": "e431b0c3",
   "metadata": {},
   "source": [
    "#### Задание исследовать функции:\n",
    "1. f = -18 * x ** 3 + 5 * x ** 2 + 10 * x - 30\n",
    "2. f = 2 * x ** 3 + 2 * x ** 2 - 18 * x - 18\n",
    "3. f = (x ** 2 + 3) / (3 * (x + 1))"
   ]
  },
  {
   "cell_type": "markdown",
   "id": "4360f5f6",
   "metadata": {},
   "source": [
    "Исследуем 2ю функцию:\n",
    "f = 2 * x ** 3 + 2 * x ** 2 - 18 * x - 18"
   ]
  },
  {
   "cell_type": "code",
   "execution_count": 1,
   "id": "9e13d400",
   "metadata": {},
   "outputs": [
    {
     "data": {
      "text/plain": [
       "<function sympy.interactive.printing.init_printing(pretty_print=True, order=None, use_unicode=None, use_latex=None, wrap_line=None, num_columns=None, no_global=False, ip=None, euler=False, forecolor=None, backcolor='Transparent', fontsize='10pt', latex_mode='plain', print_builtin=True, str_printer=None, pretty_printer=None, latex_printer=None, scale=1.0, **settings)>"
      ]
     },
     "execution_count": 1,
     "metadata": {},
     "output_type": "execute_result"
    }
   ],
   "source": [
    "from sympy import *\n",
    "from sympy.plotting import plot\n",
    "init_printing"
   ]
  },
  {
   "cell_type": "code",
   "execution_count": 75,
   "id": "04657de6",
   "metadata": {},
   "outputs": [],
   "source": [
    "x=Symbol('x')\n",
    "f= 2 * x ** 3 + 2 * x ** 2 - 18 * x - 18"
   ]
  },
  {
   "cell_type": "markdown",
   "id": "3cc09e24",
   "metadata": {},
   "source": [
    "Построим график"
   ]
  },
  {
   "cell_type": "code",
   "execution_count": 76,
   "id": "b33da498",
   "metadata": {
    "scrolled": true
   },
   "outputs": [
    {
     "data": {
      "image/png": "[encoded data removed]",
      "text/plain": [
       "<Figure size 640x480 with 1 Axes>"
      ]
     },
     "metadata": {},
     "output_type": "display_data"
    },
    {
     "data": {
      "text/plain": [
       "<sympy.plotting.plot.Plot at 0x1433711e6d0>"
      ]
     },
     "execution_count": 76,
     "metadata": {},
     "output_type": "execute_result"
    }
   ],
   "source": [
    "plot(f, (x, -5, 5), legend=True)"
   ]
  },
  {
   "cell_type": "markdown",
   "id": "9835cfb8",
   "metadata": {},
   "source": [
    "Область определения функции"
   ]
  },
  {
   "cell_type": "code",
   "execution_count": 85,
   "id": "7f392732",
   "metadata": {},
   "outputs": [
    {
     "data": {
      "text/latex": [
       "$\\displaystyle \\mathbb{R}$"
      ],
      "text/plain": [
       "Reals"
      ]
     },
     "execution_count": 85,
     "metadata": {},
     "output_type": "execute_result"
    }
   ],
   "source": [
    "Reals - singularities(f, x) "
   ]
  },
  {
   "cell_type": "markdown",
   "id": "92e3f01d",
   "metadata": {},
   "source": [
    "Определим корни или нули функции"
   ]
  },
  {
   "cell_type": "code",
   "execution_count": 78,
   "id": "fe242afb",
   "metadata": {},
   "outputs": [
    {
     "data": {
      "text/latex": [
       "$\\displaystyle \\left\\{-3, -1, 3\\right\\}$"
      ],
      "text/plain": [
       "{-3, -1, 3}"
      ]
     },
     "execution_count": 78,
     "metadata": {},
     "output_type": "execute_result"
    }
   ],
   "source": [
    "solveset(f,x)"
   ]
  },
  {
   "cell_type": "markdown",
   "id": "17e8d83a",
   "metadata": {},
   "source": [
    "Точка пересечения с осью y (x=0)"
   ]
  },
  {
   "cell_type": "code",
   "execution_count": 91,
   "id": "4ea6bbe5",
   "metadata": {},
   "outputs": [
    {
     "data": {
      "text/latex": [
       "$\\displaystyle -18$"
      ],
      "text/plain": [
       "-18"
      ]
     },
     "execution_count": 91,
     "metadata": {},
     "output_type": "execute_result"
    }
   ],
   "source": [
    "f.subs(x,0)"
   ]
  },
  {
   "cell_type": "code",
   "execution_count": 95,
   "id": "99073a4a",
   "metadata": {},
   "outputs": [
    {
     "name": "stdout",
     "output_type": "stream",
     "text": [
      "k=oo,b=Limit(2*x**3 + 2*x**2 - oo*x - 18, x, oo, dir='-') \n",
      "Ассимптот нет\n"
     ]
    }
   ],
   "source": [
    "k=limit(f/x,x,oo)\n",
    "b=limit(f-k*x,x,oo)\n",
    "\n",
    "print(f'k={k},b={b} ')\n",
    "print('Ассимптот нет')"
   ]
  },
  {
   "cell_type": "markdown",
   "id": "c0d5c89e",
   "metadata": {},
   "source": [
    "Найдем интервалы, на которых функция возрастает и убывает"
   ]
  },
  {
   "cell_type": "code",
   "execution_count": 93,
   "id": "88b6500b",
   "metadata": {},
   "outputs": [
    {
     "data": {
      "text/plain": [
       "[-oo, -1/3 + 2*sqrt(7)/3, -2*sqrt(7)/3 - 1/3, oo]"
      ]
     },
     "execution_count": 93,
     "metadata": {},
     "output_type": "execute_result"
    }
   ],
   "source": [
    "b= [-oo,oo]\n",
    "b[1:1]=solve(diff(f),x)\n",
    "b"
   ]
  },
  {
   "cell_type": "code",
   "execution_count": 81,
   "id": "65b1e48f",
   "metadata": {},
   "outputs": [
    {
     "name": "stdout",
     "output_type": "stream",
     "text": [
      "Возрастает на интервалах:\n",
      "[-oo, -1/3 + 2*sqrt(7)/3]\n",
      "[-2*sqrt(7)/3 - 1/3, oo]\n",
      "Убывает на интервалах:\n",
      "[-1/3 + 2*sqrt(7)/3, -2*sqrt(7)/3 - 1/3]\n"
     ]
    }
   ],
   "source": [
    "f_diff = [-oo, oo]\n",
    "f_diff[1:1] = solve(diff(f), x)\n",
    "\n",
    "incr_list = []\n",
    "decr_list = []\n",
    "\n",
    "for i in range(1, len(f_diff)):\n",
    "    val = is_decreasing(f, Interval.open(f_diff[i - 1], f_diff[i]))\n",
    "    if val:\n",
    "        decr_list.append(f\"[{f_diff[i - 1]}, {f_diff[i]}]\")\n",
    "    else:\n",
    "        incr_list.append(f\"[{f_diff[i - 1]}, {f_diff[i]}]\")\n",
    "        \n",
    "print(f\"Возрастает на интервалах:\", *incr_list, sep=\"\\n\")\n",
    "print(f\"Убывает на интервалах:\", *decr_list, sep=\"\\n\")\n"
   ]
  },
  {
   "cell_type": "markdown",
   "id": "26af6b4c",
   "metadata": {},
   "source": [
    "Вычислим вершину (экстремумы функции)"
   ]
  },
  {
   "cell_type": "code",
   "execution_count": 82,
   "id": "f07f2e59",
   "metadata": {},
   "outputs": [
    {
     "name": "stdout",
     "output_type": "stream",
     "text": [
      "Нижний экстремум: x: -1/3 + 2*sqrt(7)/3, y: -12*sqrt(7) - 12 + 2*(-1/3 + 2*sqrt(7)/3)**2 + 2*(-1/3 + 2*sqrt(7)/3)**3\n",
      "Верхний экстремум: x: -2*sqrt(7)/3 - 1/3, y: 2*(-2*sqrt(7)/3 - 1/3)**3 - 12 + 2*(-2*sqrt(7)/3 - 1/3)**2 + 12*sqrt(7)\n"
     ]
    }
   ],
   "source": [
    "#из семинара (не универсальный вариант)\n",
    "e=solve(diff(f),x)\n",
    "for i in e:\n",
    "    g=f.subs(x,i)\n",
    "    if g<0:\n",
    "        print(f\"Нижний экстремум: x: {i}, y: {g}\")\n",
    "    elif g>0:\n",
    "        print(f\"Верхний экстремум: x: {i}, y: {g}\")"
   ]
  },
  {
   "cell_type": "code",
   "execution_count": 99,
   "id": "67cf7ff3",
   "metadata": {},
   "outputs": [
    {
     "name": "stdout",
     "output_type": "stream",
     "text": [
      "Точка локального минимума: x: -1/3 + 2*sqrt(7)/3, y: -12*sqrt(7) - 12 + 2*(-1/3 + 2*sqrt(7)/3)**2 + 2*(-1/3 + 2*sqrt(7)/3)**3\n",
      "Точка локального максимума: x: -2*sqrt(7)/3 - 1/3, y: 2*(-2*sqrt(7)/3 - 1/3)**3 - 12 + 2*(-2*sqrt(7)/3 - 1/3)**2 + 12*sqrt(7)\n"
     ]
    }
   ],
   "source": [
    "#мой вариант\n",
    "df=solve(diff(f),x)\n",
    "b= [-oo,oo]\n",
    "b[1:1]=solve(diff(f),x)\n",
    "c=sorted(b)\n",
    "# print(df)\n",
    "# print(c)\n",
    "for j in df:\n",
    "    for i in range(1, len(f_diff)-1):\n",
    "        if i==c.index(j):\n",
    "            val1 = is_increasing(f, Interval.open(c[i - 1], c[i]))\n",
    "            val2 = is_decreasing(f, Interval.open(c[i], c[i+1]))\n",
    "#             print(j,i,val1,val2)\n",
    "            if val1==val2==True:\n",
    "                print(f\"Точка локального максимума: x: {j}, y: {f.subs(x,j)}\")\n",
    "            elif val1==val2==False:\n",
    "                print(f\"Точка локального минимума: x: {j}, y: {f.subs(x,j)}\")\n",
    "            else:\n",
    "                print(f\"непонятно: x: {j}, y: {f.subs(x,j)}\")"
   ]
  },
  {
   "cell_type": "markdown",
   "id": "4e8c5d21",
   "metadata": {},
   "source": [
    "Определим промежутки знакопостоянства функции"
   ]
  },
  {
   "cell_type": "code",
   "execution_count": 83,
   "id": "b6c5f1c6",
   "metadata": {},
   "outputs": [
    {
     "name": "stdout",
     "output_type": "stream",
     "text": [
      "[-oo, -3, -1, 3, oo]\n",
      "f > 0:\n",
      "[-3,-1]\n",
      "[3,oo]\n",
      "f < 0:\n",
      "[-oo,-3]\n",
      "[-1,3]\n"
     ]
    }
   ],
   "source": [
    "#мой вариант\n",
    "m= [-oo,oo]\n",
    "pos_list=[]\n",
    "neg_list=[]\n",
    "m[1:1]=sorted(solve(f,x))\n",
    "if is_decreasing(f, Interval.open(m[0],m[1]))==True:\n",
    "    pos_list.append(f\"[{m[0]},{m[1]}]\")\n",
    "    for i in range(2,len(m),2):\n",
    "        neg_list.append(f\"[{m[i-1]},{m[i]}]\")\n",
    "    for i in range(3,len(m),2):\n",
    "        pos_list.append(f\"[{m[i-1]},{m[i]}]\")\n",
    "else:\n",
    "    neg_list.append(f\"[{m[0]},{m[1]}]\")\n",
    "    for i in range(2,len(m),2):\n",
    "        pos_list.append(f\"[{m[i-1]},{m[i]}]\")\n",
    "    for i in range(3,len(m),2):\n",
    "        neg_list.append(f\"[{m[i-1]},{m[i]}]\")\n",
    "print(m)\n",
    "print(\"f > 0:\", *pos_list, sep=\"\\n\")\n",
    "print(\"f < 0:\", *neg_list, sep=\"\\n\")"
   ]
  },
  {
   "cell_type": "code",
   "execution_count": null,
   "id": "96a76bfe",
   "metadata": {},
   "outputs": [],
   "source": []
  }
 ],
 "metadata": {
  "kernelspec": {
   "display_name": "Python 3 (ipykernel)",
   "language": "python",
   "name": "python3"
  },
  "language_info": {
   "codemirror_mode": {
    "name": "ipython",
    "version": 3
   },
   "file_extension": ".py",
   "mimetype": "text/x-python",
   "name": "python",
   "nbconvert_exporter": "python",
   "pygments_lexer": "ipython3",
   "version": "3.9.13"
  }
 },
 "nbformat": 4,
 "nbformat_minor": 5
}
