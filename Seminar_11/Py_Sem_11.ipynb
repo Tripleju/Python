{
 "cells": [
  {
   "cell_type": "code",
   "execution_count": 11,
   "metadata": {
    "datalore": {
     "hide_input_from_viewers": false,
     "hide_output_from_viewers": false,
     "node_id": "Tj41MqRmUrJUeqkYyqoyoc",
     "type": "CODE"
    }
   },
   "outputs": [
    {
     "data": {
      "text/latex": [
       "$\\displaystyle 5 x^{2} + 10 x - 30$"
      ]
     },
     "metadata": {},
     "output_type": "display_data"
    }
   ],
   "source": [
    "from sympy import *\n",
    "from sympy.plotting import plot\n",
    "\n",
    "x = Symbol(\"x\")\n",
    "f = 5 * x ** 2 + 10 * x - 30\n",
    "# f = (x * (x + 2)) / (2 * x - 1)\n",
    "f"
   ]
  },
  {
   "cell_type": "code",
   "execution_count": 12,
   "metadata": {
    "datalore": {
     "hide_input_from_viewers": false,
     "hide_output_from_viewers": false,
     "node_id": "Fcuw0s0Dov5ANQskZUoGiZ",
     "type": "CODE"
    }
   },
   "outputs": [
    {
     "data": {
      "text/latex": [
       "$\\displaystyle \\left\\{-1 + \\sqrt{7}, - \\sqrt{7} - 1\\right\\}$"
      ]
     },
     "metadata": {},
     "output_type": "display_data"
    }
   ],
   "source": [
    "# 1. Определить корни\n",
    "#    Нули функции\n",
    "\n",
    "solveset(f, x)"
   ]
  },
  {
   "cell_type": "code",
   "execution_count": 13,
   "metadata": {
    "datalore": {
     "hide_input_from_viewers": false,
     "hide_output_from_viewers": false,
     "node_id": "kvKX3D5q9njQaRuE7OhZCt",
     "type": "CODE"
    }
   },
   "outputs": [
    {
     "name": "stdout",
     "output_type": "stream",
     "text": [
      "Убывает на интервалах:\n",
      "[-oo, -1]\n",
      "Возрастает на интервалах:\n",
      "[-1, oo]\n"
     ]
    }
   ],
   "source": [
    "# 2. Найти интервалы, на которых функция возрастает\n",
    "# 3. Найти интервалы, на которых функция убывает\n",
    "# https://poznayka.org/s79613t1.html\n",
    "\n",
    "f_diff = [-oo, oo]\n",
    "f_diff[1:1] = solve(diff(f), x)\n",
    "\n",
    "incr_list = []\n",
    "decr_list = []\n",
    "\n",
    "for i in range(1, len(f_diff)):\n",
    "    val = is_increasing(f, Interval.open(f_diff[i - 1], f_diff[i]))\n",
    "    if val:\n",
    "        incr_list.append(f\"[{f_diff[i - 1]}, {f_diff[i]}]\")\n",
    "    else:\n",
    "        decr_list.append(f\"[{f_diff[i - 1]}, {f_diff[i]}]\")\n",
    "\n",
    "print(f\"Убывает на интервалах:\", *decr_list, sep=\"\\n\")\n",
    "print(f\"Возрастает на интервалах:\", *incr_list, sep=\"\\n\")"
   ]
  },
  {
   "cell_type": "code",
   "execution_count": 15,
   "metadata": {
    "datalore": {
     "hide_input_from_viewers": false,
     "hide_output_from_viewers": false,
     "node_id": "uqFSuF6no0KTbEI5OZueSk",
     "type": "CODE"
    }
   },
   "outputs": [
    {
     "data": {
      "image/png": "[encoded data removed]"
     },
     "metadata": {
      "image/png": {}
     },
     "output_type": "display_data"
    },
    {
     "data": {
      "text/plain": [
       "<sympy.plotting.plot.Plot at 0x7faddf939e20>"
      ]
     },
     "metadata": {},
     "output_type": "display_data"
    }
   ],
   "source": [
    "# 4. Построить график\n",
    "\n",
    "plot(f, (x, -5, 2.5), legend=True)"
   ]
  },
  {
   "cell_type": "code",
   "execution_count": 16,
   "metadata": {
    "datalore": {
     "hide_input_from_viewers": false,
     "hide_output_from_viewers": false,
     "node_id": "eZoSEdqVR3aqy9U7sjK5IE",
     "type": "CODE"
    }
   },
   "outputs": [
    {
     "name": "stdout",
     "output_type": "stream",
     "text": [
      "Точка минимума: (x:-1, y:-35)\n"
     ]
    }
   ],
   "source": [
    "# 5. Вычислить вершину\n",
    "#    Экстремумы функции\n",
    "\n",
    "ext_list = solve(diff(f), x)\n",
    "\n",
    "for i in ext_list:\n",
    "    res = f.subs(x, i)\n",
    "    if res < 0:\n",
    "        print(f\"Точка минимума: (x:{i}, y:{res})\")\n",
    "    elif res > 0:\n",
    "        print(f\"Точка максимума: (x:{i}, y:{res})\")"
   ]
  },
  {
   "cell_type": "code",
   "execution_count": 17,
   "metadata": {
    "datalore": {
     "hide_input_from_viewers": false,
     "hide_output_from_viewers": false,
     "node_id": "Ah0JjzHLyvXcKP0TCPl8yc",
     "type": "CODE"
    }
   },
   "outputs": [
    {
     "name": "stdout",
     "output_type": "stream",
     "text": [
      "f > 0:\n",
      "[-oo, -sqrt(7) - 1]\n",
      "[-sqrt(7) - 1, -1 + sqrt(7)]\n",
      "f < 0:\n",
      "[-1 + sqrt(7), oo]\n"
     ]
    }
   ],
   "source": [
    "# 6. Определить промежутки, на котором f > 0\n",
    "# 7. Определить промежутки, на котором f < 0\n",
    "#    Знакопостоянства функции\n",
    "#    https://openvorkuta.ru/chto-takoe-promezhutki-zakona-postoianstva\n",
    "\n",
    "roots_fun = [-oo, oo]\n",
    "roots_fun[1:1] = sorted(solve(f, x))\n",
    "\n",
    "incr_list = []\n",
    "decr_list = []\n",
    "\n",
    "for i in range(1, len(roots_fun)):\n",
    "    num_1, num_2 = roots_fun[i - 1], roots_fun[i]\n",
    "    val = is_increasing(f, Interval.open(num_1, num_2))\n",
    "    if val:\n",
    "        decr_list.append(f\"[{num_1}, {num_2}]\")\n",
    "    else:\n",
    "        incr_list.append(f\"[{num_1}, {num_2}]\")\n",
    "\n",
    "print(\"f > 0:\", *incr_list, sep=\"\\n\")\n",
    "print(\"f < 0:\", *decr_list, sep=\"\\n\")"
   ]
  }
 ],
 "metadata": {
  "datalore": {
   "base_environment": "default",
   "computation_mode": "JUPYTER",
   "package_manager": "pip",
   "packages": [],
   "version": 1
  },
  "kernelspec": {
   "display_name": "Python 3 (ipykernel)",
   "language": "python",
   "name": "python3"
  },
  "language_info": {
   "codemirror_mode": {
    "name": "ipython",
    "version": 3
   },
   "file_extension": ".py",
   "mimetype": "text/x-python",
   "name": "python",
   "nbconvert_exporter": "python",
   "pygments_lexer": "ipython3",
   "version": "3.9.13"
  }
 },
 "nbformat": 4,
 "nbformat_minor": 4
}
